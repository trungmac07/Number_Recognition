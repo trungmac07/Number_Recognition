{
 "cells": [
  {
   "cell_type": "markdown",
   "metadata": {},
   "source": [
    "## Import Libraries "
   ]
  },
  {
   "cell_type": "code",
   "execution_count": 1,
   "metadata": {},
   "outputs": [],
   "source": [
    "import numpy as np # to handle matrix and data operation\n",
    "\n",
    "\n",
    "import torch\n",
    "import torch.nn as nn\n",
    "import torch.nn.functional as F\n",
    "\n",
    "import torch.utils.data\n",
    "from torch.utils.data import random_split\n",
    "from torch.utils.data import DataLoader\n",
    "\n",
    "from torch.autograd import Variable\n",
    "\n",
    "from torchvision.datasets import MNIST\n",
    "import torchvision.transforms as transforms\n",
    "import torchvision\n",
    "\n",
    "import PIL.Image as Image\n",
    "import io\n",
    "import matplotlib.pyplot as plt"
   ]
  },
  {
   "cell_type": "code",
   "execution_count": 2,
   "metadata": {},
   "outputs": [
    {
     "name": "stdout",
     "output_type": "stream",
     "text": [
      "cuda\n"
     ]
    }
   ],
   "source": [
    "device = 'cuda' if torch.cuda.is_available() else 'cpu'\n",
    "print(device)"
   ]
  },
  {
   "cell_type": "markdown",
   "metadata": {},
   "source": [
    "## Load data"
   ]
  },
  {
   "cell_type": "markdown",
   "metadata": {},
   "source": [
    "We use MNIST data for training and evaluation"
   ]
  },
  {
   "cell_type": "code",
   "execution_count": 3,
   "metadata": {},
   "outputs": [],
   "source": [
    "data_raw = MNIST(root='./data', train=True, download=True, transform=transforms.ToTensor())"
   ]
  },
  {
   "cell_type": "code",
   "execution_count": 4,
   "metadata": {},
   "outputs": [
    {
     "name": "stdout",
     "output_type": "stream",
     "text": [
      "Label: 5\n"
     ]
    },
    {
     "data": {
      "image/png": "[encoded data removed]",
      "text/plain": [
       "<Figure size 640x480 with 1 Axes>"
      ]
     },
     "metadata": {},
     "output_type": "display_data"
    }
   ],
   "source": [
    "image,label = data_raw[0]\n",
    "plt.imshow(image[0,:,:], cmap = 'gray')\n",
    "print(\"Label:\", label)"
   ]
  },
  {
   "cell_type": "code",
   "execution_count": 5,
   "metadata": {},
   "outputs": [],
   "source": [
    "data1 = []\n",
    "for i in data_raw:\n",
    "    data1.append((i[0],i[1]))\n"
   ]
  },
  {
   "cell_type": "markdown",
   "metadata": {},
   "source": [
    "## Preprocess data"
   ]
  },
  {
   "cell_type": "markdown",
   "metadata": {},
   "source": [
    "Enrich data by removing black pixel (padding) around the digit pictures"
   ]
  },
  {
   "cell_type": "markdown",
   "metadata": {},
   "source": [
    "After remove padding, remember to resize the image to 28x28"
   ]
  },
  {
   "cell_type": "code",
   "execution_count": 6,
   "metadata": {},
   "outputs": [],
   "source": [
    "def remove_padding(img):\n",
    "    \n",
    "    non_zero_rows = torch.any(img[0] != 0, dim=1)\n",
    "    non_zero_cols = torch.any(img[0] != 0, dim=0)\n",
    "\n",
    "    a1 = torch.arange(28)\n",
    "    a2 = torch.arange(28)\n",
    "    a1=a1[non_zero_rows]\n",
    "    a2=a2[non_zero_cols]\n",
    "\n",
    "    img = img[:,a1[0]:a1[-1]+1,a2[0]:a2[-1]+1]\n",
    "    img = torchvision.transforms.Resize((28,28))(img)\n",
    "    return img\n",
    "    "
   ]
  },
  {
   "cell_type": "code",
   "execution_count": 7,
   "metadata": {},
   "outputs": [],
   "source": [
    "data2 = []\n",
    "for i in data_raw:\n",
    "    img = i[0]\n",
    "    img = remove_padding(img)\n",
    "    data2.append((img,i[1]))\n",
    "index = 0\n",
    "\n"
   ]
  },
  {
   "cell_type": "code",
   "execution_count": 8,
   "metadata": {},
   "outputs": [
    {
     "name": "stdout",
     "output_type": "stream",
     "text": [
      "Image after removing padding:\n"
     ]
    },
    {
     "data": {
      "text/plain": [
       "<matplotlib.image.AxesImage at 0x1a6fcfd0ad0>"
      ]
     },
     "execution_count": 8,
     "metadata": {},
     "output_type": "execute_result"
    },
    {
     "data": {
      "image/png": "[encoded data removed]",
      "text/plain": [
       "<Figure size 640x480 with 1 Axes>"
      ]
     },
     "metadata": {},
     "output_type": "display_data"
    }
   ],
   "source": [
    "index = 0\n",
    "print(\"Image after removing padding:\")\n",
    "plt.imshow(data2[0][0][0])\n"
   ]
  },
  {
   "cell_type": "markdown",
   "metadata": {},
   "source": [
    "Enrich data by adding black pixel (padding) around the digit pictures"
   ]
  },
  {
   "cell_type": "markdown",
   "metadata": {},
   "source": [
    "After remove padding, remember to resize the image to 28x28"
   ]
  },
  {
   "cell_type": "code",
   "execution_count": 9,
   "metadata": {},
   "outputs": [],
   "source": [
    "def add_padding(img, padding = 7):\n",
    "    img = F.pad(img, pad = (padding, padding, padding, padding), value = 0)\n",
    "    img = torchvision.transforms.Resize((28,28))(img)\n",
    "    return img"
   ]
  },
  {
   "cell_type": "code",
   "execution_count": 10,
   "metadata": {},
   "outputs": [],
   "source": [
    "data3 = []\n",
    "for i in data_raw:\n",
    "    img = i[0]\n",
    "    img = add_padding(img)\n",
    "    data3.append((img,i[1]))"
   ]
  },
  {
   "cell_type": "code",
   "execution_count": 11,
   "metadata": {},
   "outputs": [
    {
     "name": "stdout",
     "output_type": "stream",
     "text": [
      "Image after removing padding:\n"
     ]
    },
    {
     "data": {
      "text/plain": [
       "<matplotlib.image.AxesImage at 0x1a6fcfe0810>"
      ]
     },
     "execution_count": 11,
     "metadata": {},
     "output_type": "execute_result"
    },
    {
     "data": {
      "image/png": "[encoded data removed]",
      "text/plain": [
       "<Figure size 640x480 with 1 Axes>"
      ]
     },
     "metadata": {},
     "output_type": "display_data"
    }
   ],
   "source": [
    "index = 0\n",
    "print(\"Image after adding padding:\")\n",
    "plt.imshow(data3[0][0][0])\n"
   ]
  },
  {
   "cell_type": "code",
   "execution_count": 12,
   "metadata": {},
   "outputs": [
    {
     "name": "stdout",
     "output_type": "stream",
     "text": [
      "60000\n",
      "60000\n",
      "60000\n",
      "180000\n"
     ]
    }
   ],
   "source": [
    "print(len(data1))\n",
    "print(len(data2))\n",
    "print(len(data3))\n",
    "data = data1+data2+data3 \n",
    "print(len(data))"
   ]
  },
  {
   "cell_type": "code",
   "execution_count": 13,
   "metadata": {},
   "outputs": [
    {
     "name": "stdout",
     "output_type": "stream",
     "text": [
      "Length of Train Datasets:  144000\n",
      "Length of Test Datasets:  36000\n"
     ]
    }
   ],
   "source": [
    "train, test = random_split(data, [144000, 36000])\n",
    "BATCH_SIZE = 64\n",
    "## Print the length of train and validation datasets\n",
    "print(\"Length of Train Datasets: \", len(train))\n",
    "print(\"Length of Test Datasets: \", len(test))\n",
    "\n",
    "train_loader = torch.utils.data.DataLoader(train, batch_size = BATCH_SIZE, shuffle = True)\n",
    "test_loader = torch.utils.data.DataLoader(test, batch_size = 1, shuffle = True)\n"
   ]
  },
  {
   "cell_type": "markdown",
   "metadata": {},
   "source": [
    "## Convolutional Neural Network (CNN)"
   ]
  },
  {
   "cell_type": "markdown",
   "metadata": {},
   "source": [
    "We use CNN for model of digit recognition"
   ]
  },
  {
   "cell_type": "code",
   "execution_count": 119,
   "metadata": {},
   "outputs": [],
   "source": [
    "\n",
    "\n",
    "\n",
    "class CNN(nn.Module):\n",
    "    \n",
    "    def __init__(self, device = 'cpu'):\n",
    "        super(CNN, self).__init__()\n",
    "        \n",
    "        self.device = device\n",
    "\n",
    "        self.layers = nn.Sequential()\n",
    "\n",
    "        self.layers.append(nn.Conv2d(1,32,kernel_size=5, padding=2, stride=1, device=self.device))\n",
    "        self.layers.append(nn.AvgPool2d(2))\n",
    "        self.layers.append(nn.LeakyReLU(0.01))\n",
    "        self.layers.append(nn.Conv2d(32,64,kernel_size=5, padding=2, stride=1, device=self.device))\n",
    "        self.layers.append(nn.Dropout(p=0.3))\n",
    "        self.layers.append(nn.LeakyReLU(0.01))\n",
    "        self.layers.append(nn.AvgPool2d(2))\n",
    "        self.layers.append(nn.Conv2d(64,128,kernel_size=5, padding=2, stride=1, device=self.device))\n",
    "        self.layers.append(nn.LeakyReLU(0.01))\n",
    "        self.layers.append(nn.Flatten())\n",
    "        self.layers.append(nn.Linear(7*7*128, 512, device=self.device))\n",
    "        self.layers.append(nn.ReLU())\n",
    "        self.layers.append(nn.Dropout(p=0.3))\n",
    "        self.layers.append(nn.Linear(512, 10, device=self.device))\n",
    "\n",
    "        self.loss = nn.CrossEntropyLoss()\n",
    "    \n",
    "    def forward(self,x):\n",
    "        return self.layers(x)\n",
    "\n",
    "    def predict(self,x):\n",
    "        y_pred = F.softmax(self.forward(x))\n",
    "        return torch.max(y_pred,1)[1]\n",
    "    \n",
    "\n",
    "def fit(model, data, device = 'cpu'):\n",
    "    optimizer = torch.optim.Adam(model.parameters())#,lr=0.001, betas=(0.9,0.999))\n",
    "    EPOCHS = 10\n",
    "    model.train()\n",
    "\n",
    "    for e in range(EPOCHS):\n",
    "        correct = 0\n",
    "        for i, (x_batch,y_batch) in enumerate(data):\n",
    "            x = Variable(x_batch).float().to(device)\n",
    "            y = Variable(y_batch).to(device)\n",
    "        \n",
    "            optimizer.zero_grad()\n",
    "            y_pred = model.forward(x)\n",
    "            loss = model.loss(y_pred, y)\n",
    "            loss.backward()\n",
    "            optimizer.step()\n",
    "            predicted = torch.max(y_pred,1)[1]\n",
    "            correct += (predicted == y).sum()\n",
    "            if i % 50 == 0:\n",
    "                print(\"{:<15} {:<15} {:<30} {:<30}\".format(\"Epoch: \" + str(e), \"| Batch: \" + str(i), \"| Loss: \" + str(loss.item()), \"| accuracy: \" + str(float(correct/float(BATCH_SIZE*(i+1))))))\n",
    " \n",
    "\n",
    "\n",
    "\n",
    "#cnn.forward(image)"
   ]
  },
  {
   "cell_type": "markdown",
   "metadata": {},
   "source": [
    "## Train Model"
   ]
  },
  {
   "cell_type": "code",
   "execution_count": 120,
   "metadata": {},
   "outputs": [
    {
     "name": "stdout",
     "output_type": "stream",
     "text": [
      "Training on cuda\n",
      "Epoch: 0        | Batch: 0      | Loss: 2.3032491207122803     | accuracy: 0.08984375        \n",
      "Epoch: 0        | Batch: 50     | Loss: 0.40125149488449097    | accuracy: 0.6662837266921997\n",
      "Epoch: 0        | Batch: 100    | Loss: 0.21454888582229614    | accuracy: 0.7876701354980469\n",
      "Epoch: 0        | Batch: 150    | Loss: 0.15562695264816284    | accuracy: 0.8378518223762512\n",
      "Epoch: 0        | Batch: 200    | Loss: 0.1535792201757431     | accuracy: 0.8664684295654297\n",
      "Epoch: 0        | Batch: 250    | Loss: 0.15024027228355408    | accuracy: 0.8852558732032776\n",
      "Epoch: 0        | Batch: 300    | Loss: 0.1488032042980194     | accuracy: 0.8978664875030518\n",
      "Epoch: 0        | Batch: 350    | Loss: 0.12413226813077927    | accuracy: 0.9079082012176514\n",
      "Epoch: 0        | Batch: 400    | Loss: 0.05587427690625191    | accuracy: 0.9155626893043518\n",
      "Epoch: 0        | Batch: 450    | Loss: 0.08558519929647446    | accuracy: 0.9215025305747986\n",
      "Epoch: 0        | Batch: 500    | Loss: 0.08941894769668579    | accuracy: 0.9267870783805847\n",
      "Epoch: 0        | Batch: 550    | Loss: 0.10517921298742294    | accuracy: 0.9312684535980225\n",
      "Epoch: 1        | Batch: 0      | Loss: 0.05549212917685509    | accuracy: 0.98828125        \n",
      "Epoch: 1        | Batch: 50     | Loss: 0.04754593223333359    | accuracy: 0.9779412150382996\n",
      "Epoch: 1        | Batch: 100    | Loss: 0.047158487141132355   | accuracy: 0.9773746728897095\n",
      "Epoch: 1        | Batch: 150    | Loss: 0.05238112062215805    | accuracy: 0.9775196313858032\n",
      "Epoch: 1        | Batch: 200    | Loss: 0.047375988215208054   | accuracy: 0.9786613583564758\n",
      "Epoch: 1        | Batch: 250    | Loss: 0.0303398035466671     | accuracy: 0.9789436459541321\n",
      "Epoch: 1        | Batch: 300    | Loss: 0.04970470443367958    | accuracy: 0.9790152311325073\n",
      "Epoch: 1        | Batch: 350    | Loss: 0.06246846541762352    | accuracy: 0.9793224930763245\n",
      "Epoch: 1        | Batch: 400    | Loss: 0.02009119838476181    | accuracy: 0.9796894788742065\n",
      "Epoch: 1        | Batch: 450    | Loss: 0.05866111069917679    | accuracy: 0.9799923896789551\n",
      "Epoch: 1        | Batch: 500    | Loss: 0.041193440556526184   | accuracy: 0.9802270531654358\n",
      "Epoch: 1        | Batch: 550    | Loss: 0.05755402147769928    | accuracy: 0.9804900288581848\n",
      "Epoch: 2        | Batch: 0      | Loss: 0.03132012486457825    | accuracy: 0.99609375        \n",
      "Epoch: 2        | Batch: 50     | Loss: 0.11256435513496399    | accuracy: 0.9852941632270813\n",
      "Epoch: 2        | Batch: 100    | Loss: 0.01833930052816868    | accuracy: 0.9850324988365173\n",
      "Epoch: 2        | Batch: 150    | Loss: 0.0467764213681221     | accuracy: 0.9855391383171082\n",
      "Epoch: 2        | Batch: 200    | Loss: 0.04114662483334541    | accuracy: 0.986046314239502 \n",
      "Epoch: 2        | Batch: 250    | Loss: 0.020603453740477562   | accuracy: 0.9863359332084656\n",
      "Epoch: 2        | Batch: 300    | Loss: 0.039595793932676315   | accuracy: 0.9860490560531616\n",
      "Epoch: 2        | Batch: 350    | Loss: 0.06181037053465843    | accuracy: 0.9858885407447815\n",
      "Epoch: 2        | Batch: 400    | Loss: 0.036900050938129425   | accuracy: 0.985680341720581 \n",
      "Epoch: 2        | Batch: 450    | Loss: 0.019236087799072266   | accuracy: 0.9859686493873596\n",
      "Epoch: 2        | Batch: 500    | Loss: 0.03987054154276848    | accuracy: 0.9861214756965637\n",
      "Epoch: 2        | Batch: 550    | Loss: 0.05935266986489296    | accuracy: 0.9862749576568604\n",
      "Epoch: 3        | Batch: 0      | Loss: 0.017994919791817665   | accuracy: 0.9921875         \n",
      "Epoch: 3        | Batch: 50     | Loss: 0.0213344544172287     | accuracy: 0.9907322525978088\n",
      "Epoch: 3        | Batch: 100    | Loss: 0.007796904072165489   | accuracy: 0.990524411201477 \n",
      "Epoch: 3        | Batch: 150    | Loss: 0.04189615696668625    | accuracy: 0.9901697039604187\n",
      "Epoch: 3        | Batch: 200    | Loss: 0.013685665093362331   | accuracy: 0.9900302886962891\n",
      "Epoch: 3        | Batch: 250    | Loss: 0.039934609085321426   | accuracy: 0.9899620413780212\n",
      "Epoch: 3        | Batch: 300    | Loss: 0.03526030108332634    | accuracy: 0.990149974822998 \n",
      "Epoch: 3        | Batch: 350    | Loss: 0.042579032480716705   | accuracy: 0.99006187915802  \n",
      "Epoch: 3        | Batch: 400    | Loss: 0.038564715534448624   | accuracy: 0.9898301362991333\n",
      "Epoch: 3        | Batch: 450    | Loss: 0.03518901392817497    | accuracy: 0.9896844029426575\n",
      "Epoch: 3        | Batch: 500    | Loss: 0.04464835301041603    | accuracy: 0.9895521402359009\n",
      "Epoch: 3        | Batch: 550    | Loss: 0.03608125075697899    | accuracy: 0.9896353483200073\n",
      "Epoch: 4        | Batch: 0      | Loss: 0.02581503987312317    | accuracy: 0.98828125        \n",
      "Epoch: 4        | Batch: 50     | Loss: 0.011097735725343227   | accuracy: 0.991574764251709 \n",
      "Epoch: 4        | Batch: 100    | Loss: 0.01754908636212349    | accuracy: 0.9912205934524536\n",
      "Epoch: 4        | Batch: 150    | Loss: 0.017929060384631157   | accuracy: 0.9916183948516846\n",
      "Epoch: 4        | Batch: 200    | Loss: 0.018491677939891815   | accuracy: 0.9916627407073975\n",
      "Epoch: 4        | Batch: 250    | Loss: 0.013697132468223572   | accuracy: 0.9915027618408203\n",
      "Epoch: 4        | Batch: 300    | Loss: 0.013412542641162872   | accuracy: 0.9915385842323303\n",
      "Epoch: 4        | Batch: 350    | Loss: 0.01273194421082735    | accuracy: 0.9915642738342285\n",
      "Epoch: 4        | Batch: 400    | Loss: 0.016463536769151688   | accuracy: 0.9914277195930481\n",
      "Epoch: 4        | Batch: 450    | Loss: 0.03447132930159569    | accuracy: 0.9912434220314026\n",
      "Epoch: 4        | Batch: 500    | Loss: 0.016881296411156654   | accuracy: 0.9911816716194153\n",
      "Epoch: 4        | Batch: 550    | Loss: 0.014923952519893646   | accuracy: 0.9911878705024719\n",
      "Epoch: 5        | Batch: 0      | Loss: 0.015804169699549675   | accuracy: 0.99609375        \n",
      "Epoch: 5        | Batch: 50     | Loss: 0.015601894818246365   | accuracy: 0.992034375667572 \n",
      "Epoch: 5        | Batch: 100    | Loss: 0.018842970952391624   | accuracy: 0.9921875         \n",
      "Epoch: 5        | Batch: 150    | Loss: 0.015794407576322556   | accuracy: 0.9920840263366699\n",
      "Epoch: 5        | Batch: 200    | Loss: 0.006616552826017141   | accuracy: 0.9924595355987549\n",
      "Epoch: 5        | Batch: 250    | Loss: 0.01946137472987175    | accuracy: 0.9925299286842346\n",
      "Epoch: 5        | Batch: 300    | Loss: 0.019964171573519707   | accuracy: 0.992291271686554 \n",
      "Epoch: 5        | Batch: 350    | Loss: 0.008630248717963696   | accuracy: 0.9923433065414429\n",
      "Epoch: 5        | Batch: 400    | Loss: 0.04242311790585518    | accuracy: 0.9921777844429016\n",
      "Epoch: 5        | Batch: 450    | Loss: 0.01161795761436224    | accuracy: 0.9922047853469849\n",
      "Epoch: 5        | Batch: 500    | Loss: 0.031566072255373      | accuracy: 0.9922420978546143\n",
      "Epoch: 5        | Batch: 550    | Loss: 0.011171798221766949   | accuracy: 0.9922583699226379\n",
      "Epoch: 6        | Batch: 0      | Loss: 0.014570982195436954   | accuracy: 0.9921875         \n",
      "Epoch: 6        | Batch: 50     | Loss: 0.013767116703093052   | accuracy: 0.9944853186607361\n",
      "Epoch: 6        | Batch: 100    | Loss: 0.014566157944500446   | accuracy: 0.9943146705627441\n",
      "Epoch: 6        | Batch: 150    | Loss: 0.0236619021743536     | accuracy: 0.9941276907920837\n",
      "Epoch: 6        | Batch: 200    | Loss: 0.02245018258690834    | accuracy: 0.9945001602172852\n",
      "Epoch: 6        | Batch: 250    | Loss: 0.017406819388270378   | accuracy: 0.9941328763961792\n",
      "Epoch: 6        | Batch: 300    | Loss: 0.031064670532941818   | accuracy: 0.9941470623016357\n",
      "Epoch: 6        | Batch: 350    | Loss: 0.0413362942636013     | accuracy: 0.9940571784973145\n",
      "Epoch: 6        | Batch: 400    | Loss: 0.012128069996833801   | accuracy: 0.9940481185913086\n",
      "Epoch: 6        | Batch: 450    | Loss: 0.00785321556031704    | accuracy: 0.9940670132637024\n",
      "Epoch: 6        | Batch: 500    | Loss: 0.06271669268608093    | accuracy: 0.9940977692604065\n",
      "Epoch: 6        | Batch: 550    | Loss: 0.02901202067732811    | accuracy: 0.9940024018287659\n",
      "Epoch: 7        | Batch: 0      | Loss: 0.04606841504573822    | accuracy: 0.9921875         \n",
      "Epoch: 7        | Batch: 50     | Loss: 0.0030586300417780876  | accuracy: 0.9964001774787903\n",
      "Epoch: 7        | Batch: 100    | Loss: 0.005433667451143265   | accuracy: 0.9956682920455933\n",
      "Epoch: 7        | Batch: 150    | Loss: 0.008320562541484833   | accuracy: 0.995136559009552 \n",
      "Epoch: 7        | Batch: 200    | Loss: 0.018123995512723923   | accuracy: 0.9947916269302368\n",
      "Epoch: 7        | Batch: 250    | Loss: 0.0042706383392214775  | accuracy: 0.9948176145553589\n",
      "Epoch: 7        | Batch: 300    | Loss: 0.014532146044075489   | accuracy: 0.9949127435684204\n",
      "Epoch: 7        | Batch: 350    | Loss: 0.022432873025536537   | accuracy: 0.994869589805603 \n",
      "Epoch: 7        | Batch: 400    | Loss: 0.07835834473371506    | accuracy: 0.994564414024353 \n",
      "Epoch: 7        | Batch: 450    | Loss: 0.01184521522372961    | accuracy: 0.9944221377372742\n",
      "Epoch: 7        | Batch: 500    | Loss: 0.02314108796417713    | accuracy: 0.99445641040802  \n",
      "Epoch: 7        | Batch: 550    | Loss: 0.005645011086016893   | accuracy: 0.9943710565567017\n",
      "Epoch: 8        | Batch: 0      | Loss: 0.03803258761763573    | accuracy: 0.9921875         \n",
      "Epoch: 8        | Batch: 50     | Loss: 0.011843284592032433   | accuracy: 0.9955576062202454\n",
      "Epoch: 8        | Batch: 100    | Loss: 0.020601404830813408   | accuracy: 0.9952815175056458\n",
      "Epoch: 8        | Batch: 150    | Loss: 0.0013405245263129473  | accuracy: 0.9952659606933594\n",
      "Epoch: 8        | Batch: 200    | Loss: 0.02118714340031147    | accuracy: 0.99477219581604  \n",
      "Epoch: 8        | Batch: 250    | Loss: 0.0061386045999825     | accuracy: 0.9949421286582947\n",
      "Epoch: 8        | Batch: 300    | Loss: 0.007749052718281746   | accuracy: 0.9949257373809814\n",
      "Epoch: 8        | Batch: 350    | Loss: 0.013969840481877327   | accuracy: 0.99485844373703  \n",
      "Epoch: 8        | Batch: 400    | Loss: 0.004859147127717733   | accuracy: 0.9947689771652222\n",
      "Epoch: 8        | Batch: 450    | Loss: 0.01248034369200468    | accuracy: 0.9947512149810791\n",
      "Epoch: 8        | Batch: 500    | Loss: 0.012679564766585827   | accuracy: 0.9948150515556335\n",
      "Epoch: 8        | Batch: 550    | Loss: 0.007218470331281424   | accuracy: 0.9948318600654602\n",
      "Epoch: 9        | Batch: 0      | Loss: 0.0010944230016320944  | accuracy: 1.0               \n",
      "Epoch: 9        | Batch: 50     | Loss: 0.004045939538627863   | accuracy: 0.996553361415863 \n",
      "Epoch: 9        | Batch: 100    | Loss: 0.006869216449558735   | accuracy: 0.9964418411254883\n",
      "Epoch: 9        | Batch: 150    | Loss: 0.009895393624901772   | accuracy: 0.9964041709899902\n",
      "Epoch: 9        | Batch: 200    | Loss: 0.05929111689329147    | accuracy: 0.9963463544845581\n",
      "Epoch: 9        | Batch: 250    | Loss: 0.014875713735818863   | accuracy: 0.9962649941444397\n",
      "Epoch: 9        | Batch: 300    | Loss: 0.0054175672121346     | accuracy: 0.9962624311447144\n",
      "Epoch: 9        | Batch: 350    | Loss: 0.004440519493073225   | accuracy: 0.9962607026100159\n",
      "Epoch: 9        | Batch: 400    | Loss: 0.0340423546731472     | accuracy: 0.9963275790214539\n",
      "Epoch: 9        | Batch: 450    | Loss: 0.0025012947153300047  | accuracy: 0.9961110353469849\n",
      "Epoch: 9        | Batch: 500    | Loss: 0.0023050957825034857  | accuracy: 0.995953381061554 \n",
      "Epoch: 9        | Batch: 550    | Loss: 0.005622789263725281   | accuracy: 0.9958810806274414\n"
     ]
    }
   ],
   "source": [
    "print(\"Training on\", device)\n",
    "cnn = CNN(device=device)\n",
    "fit(cnn,train_loader,device)"
   ]
  },
  {
   "cell_type": "markdown",
   "metadata": {},
   "source": [
    "After training, we save the model"
   ]
  },
  {
   "cell_type": "code",
   "execution_count": 121,
   "metadata": {},
   "outputs": [],
   "source": [
    "torch.save(cnn.state_dict(), './model/mnist-cnn.pth')"
   ]
  },
  {
   "cell_type": "markdown",
   "metadata": {},
   "source": [
    "## Evaluate Model"
   ]
  },
  {
   "cell_type": "code",
   "execution_count": 122,
   "metadata": {},
   "outputs": [],
   "source": [
    "def eval(model, test, device = 'cpu'):\n",
    "    model.eval()\n",
    "    correct = 0\n",
    "    for x,y in test:\n",
    "        x = x.unsqueeze(0)\n",
    "        y_pred = model.predict(x.to(device))\n",
    "        if(y_pred == y):\n",
    "            correct += 1\n",
    "    return correct / len(test)\n"
   ]
  },
  {
   "cell_type": "code",
   "execution_count": 123,
   "metadata": {},
   "outputs": [
    {
     "name": "stderr",
     "output_type": "stream",
     "text": [
      "C:\\Users\\Trung\\AppData\\Local\\Temp\\ipykernel_8332\\1562697807.py:31: UserWarning: Implicit dimension choice for softmax has been deprecated. Change the call to include dim=X as an argument.\n",
      "  y_pred = F.softmax(self.forward(x))\n"
     ]
    },
    {
     "name": "stdout",
     "output_type": "stream",
     "text": [
      "0.9926944444444444\n"
     ]
    }
   ],
   "source": [
    "print(eval(cnn,test,device))"
   ]
  }
 ],
 "metadata": {
  "kernelspec": {
   "display_name": "Python 3",
   "language": "python",
   "name": "python3"
  },
  "language_info": {
   "codemirror_mode": {
    "name": "ipython",
    "version": 3
   },
   "file_extension": ".py",
   "mimetype": "text/x-python",
   "name": "python",
   "nbconvert_exporter": "python",
   "pygments_lexer": "ipython3",
   "version": "3.11.8"
  }
 },
 "nbformat": 4,
 "nbformat_minor": 2
}
